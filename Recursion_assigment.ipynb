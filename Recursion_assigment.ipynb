{
 "cells": [
  {
   "cell_type": "markdown",
   "id": "0e758d31-6702-4cad-89cd-91bd5e714055",
   "metadata": {},
   "source": [
    "### Q.1 Can you explain the logic and working of the Tower of Hanoi algorithm by writing a Java program? How does the recursion work, and how are the movements of disks between rods accomplished?"
   ]
  },
  {
   "cell_type": "code",
   "execution_count": 3,
   "id": "237f19a1-e641-4580-848b-bd0bb314bec9",
   "metadata": {},
   "outputs": [
    {
     "name": "stdout",
     "output_type": "stream",
     "text": [
      "Move disk 1 from rod A to rod C\n",
      "Move disk 2 from rod A to rod B\n",
      "Move disk 1 from rod C to rod B\n",
      "Move disk 3 from rod A to rod C\n",
      "Move disk 1 from rod B to rod A\n",
      "Move disk 2 from rod B to rod C\n",
      "Move disk 1 from rod A to rod C\n"
     ]
    }
   ],
   "source": [
    "def Tower_of_Hanoi(n,from_rod,to_rod,aux_rod):\n",
    "    if n==0:\n",
    "        return\n",
    "    Tower_of_Hanoi(n-1,from_rod,aux_rod,to_rod)\n",
    "    print(\"Move disk\",n,\"from rod\",from_rod,\"to rod\",to_rod)\n",
    "    Tower_of_Hanoi(n-1,aux_rod,to_rod,from_rod,)\n",
    "N=3\n",
    "\n",
    "Tower_of_Hanoi(N,'A','C','B')\n",
    "\n",
    "    "
   ]
  },
  {
   "cell_type": "markdown",
   "id": "d4349503-cd67-4fb0-b4d7-56298f005444",
   "metadata": {},
   "source": [
    "### Q. 3 Print the max value of the array [ 13, 1, -3, 22, 5]."
   ]
  },
  {
   "cell_type": "code",
   "execution_count": 17,
   "id": "be6fa969-3248-43a7-a641-7d6da831d955",
   "metadata": {},
   "outputs": [
    {
     "name": "stdout",
     "output_type": "stream",
     "text": [
      "The maximum element is 22\n"
     ]
    }
   ],
   "source": [
    "def findMaximum(arr, low, high):\n",
    "    max = arr[low]\n",
    "    i = low\n",
    "    for i in range(high+1):\n",
    "        if arr[i] > max:\n",
    "            max = arr[i]\n",
    "    return max\n",
    " \n",
    "# Driver program to check above functions */\n",
    "arr = [13,1,-3,22,5]\n",
    "n = len(arr)\n",
    "print (\"The maximum element is %d\"%\n",
    "        findMaximum(arr, 0, n-1))"
   ]
  },
  {
   "cell_type": "markdown",
   "id": "56b71e90-211f-40c3-a3e4-7dcb6fc321ec",
   "metadata": {},
   "source": [
    "### Q.4 Find the sum of the values of the array [92, 23, 15, -20, 10]."
   ]
  },
  {
   "cell_type": "code",
   "execution_count": 1,
   "id": "c31e6888-0658-4cb9-a7b1-c989afa8a644",
   "metadata": {},
   "outputs": [
    {
     "name": "stdout",
     "output_type": "stream",
     "text": [
      "120\n"
     ]
    }
   ],
   "source": [
    "def sum1(arr):\n",
    "    if len(arr) == 1:\n",
    "        return arr[0]\n",
    "    else:\n",
    "        return arr[0] + sum1(arr[1:])\n",
    " \n",
    " \n",
    "arr = [92,23,15,-20,10]\n",
    "print(sum1(arr))\n",
    " "
   ]
  },
  {
   "cell_type": "markdown",
   "id": "5f9f3cce-963d-41de-a562-5a92ee1023c5",
   "metadata": {},
   "source": [
    "### Q.5 Given a number n. Print if it is an armstrong number or not.An armstrong number is a number if the sum\n",
    "of every digit in that number raised to the power of total digits in that number is equal to the number.\n",
    "Example : 153 = 1^3 + 5^3 + 3^3 = 1 + 125 + 27 = 153 hence 153 is an armstrong number. (Easy)\n",
    "Input1 : 153\n",
    "Output1 : Yes\n",
    "Input 2 : 134\n",
    "Output2 : No"
   ]
  },
  {
   "cell_type": "code",
   "execution_count": 3,
   "id": "d7361305-0747-4920-bcd2-ccae69241d97",
   "metadata": {},
   "outputs": [
    {
     "name": "stdout",
     "output_type": "stream",
     "text": [
      "armstrong\n"
     ]
    }
   ],
   "source": [
    "#example 1\n",
    "\n",
    "n=153\n",
    "temp=n\n",
    "p=0\n",
    "\n",
    "while(n>0):\n",
    "    rem=n%10\n",
    "    p=(p) + (rem * rem * rem)\n",
    "    n=n//10\n",
    "if temp == p:\n",
    "    print(\"armstrong\")\n",
    "else:\n",
    "    print(\"not armstrong\")"
   ]
  },
  {
   "cell_type": "code",
   "execution_count": 4,
   "id": "c0d508be-f409-4da9-9efa-a4f54a88ce19",
   "metadata": {},
   "outputs": [
    {
     "name": "stdout",
     "output_type": "stream",
     "text": [
      "not armstrong\n"
     ]
    }
   ],
   "source": [
    "#example:2\n",
    "\n",
    "#example 1\n",
    "\n",
    "n=134\n",
    "temp=n\n",
    "p=0\n",
    "\n",
    "while(n>0):\n",
    "    rem=n%10\n",
    "    p=(p) + (rem * rem * rem)\n",
    "    n=n//10\n",
    "if temp == p:\n",
    "    print(\"armstrong\")\n",
    "else:\n",
    "    print(\"not armstrong\")"
   ]
  },
  {
   "cell_type": "markdown",
   "id": "cd1b8c7e-cc4b-42dd-bf68-802a92f3cd6e",
   "metadata": {},
   "source": [
    "### Q.2 Given two strings word1 and word2, return the minimum number of operations required to convert word1to word2."
   ]
  },
  {
   "cell_type": "code",
   "execution_count": 7,
   "id": "7ad603ff-bd2c-44f0-b053-dcc7ed655e85",
   "metadata": {},
   "outputs": [
    {
     "name": "stdout",
     "output_type": "stream",
     "text": [
      "3\n"
     ]
    }
   ],
   "source": [
    "# example 1\n",
    "class Solution:\n",
    "    def minDistance(self, word1:str , word2:str ) -> int:\n",
    "        m, n = len(word1), len(word2)\n",
    "        f = [[0] * (n + 1) for _ in range(m + 1)]\n",
    "        for j in range(1, n + 1):\n",
    "            f[0][j] = j\n",
    "        for i, a in enumerate(word1, 1):\n",
    "            f[i][0] = i\n",
    "            for j, b in enumerate(word2, 1):\n",
    "                if a == b:\n",
    "                    f[i][j] = f[i - 1][j - 1]\n",
    "                else:\n",
    "                    f[i][j] = min(f[i - 1][j], f[i][j - 1], f[i - 1][j - 1]) + 1\n",
    "        return f[m][n]\n",
    "word1 = \"horse\"\n",
    "word2 = \"ros\"\n",
    "ob = Solution()\n",
    "ans = ob.minDistance(word1, word2)\n",
    "print(ans)\n"
   ]
  },
  {
   "cell_type": "code",
   "execution_count": 8,
   "id": "26d58294-4000-4130-923d-ca840b2c2c96",
   "metadata": {},
   "outputs": [
    {
     "name": "stdout",
     "output_type": "stream",
     "text": [
      "5\n"
     ]
    }
   ],
   "source": [
    "# example 2\n",
    "class Solution:\n",
    "    def minDistance(self, word1: str, word2: str) -> int:\n",
    "        m, n = len(word1), len(word2)\n",
    "        f = [[0] * (n + 1) for _ in range(m + 1)]\n",
    "        for j in range(1, n + 1):\n",
    "            f[0][j] = j\n",
    "        for i, a in enumerate(word1, 1):\n",
    "            f[i][0] = i\n",
    "            for j, b in enumerate(word2, 1):\n",
    "                if a == b:\n",
    "                    f[i][j] = f[i - 1][j - 1]\n",
    "                else:\n",
    "                    f[i][j] = min(f[i - 1][j], f[i][j - 1], f[i - 1][j - 1]) + 1\n",
    "        return f[m][n]\n",
    "word1 = \"intention\"\n",
    "word2 = \"execution\"\n",
    "ob = Solution()\n",
    "ans = ob.minDistance(word1, word2)\n",
    "print(ans)"
   ]
  },
  {
   "cell_type": "code",
   "execution_count": 10,
   "id": "f73ed253-dd1a-423f-bdbe-6e2426db986b",
   "metadata": {},
   "outputs": [
    {
     "name": "stdout",
     "output_type": "stream",
     "text": [
      "3\n"
     ]
    }
   ],
   "source": [
    "#example 1 mothod 2\n",
    "class Solution:\n",
    "\tdef editDistance(self, s: str, t: str) -> int:\n",
    "\t\tn = len(s)\n",
    "\t\tm = len(t)\n",
    "\n",
    "\t\tprev = [j for j in range(m+1)]\n",
    "\t\tcurr = [0] * (m+1)\n",
    "\n",
    "\t\tfor i in range(1, n+1):\n",
    "\t\t\tcurr[0] = i\n",
    "\t\t\tfor j in range(1, m+1):\n",
    "\t\t\t\tif s[i-1] == t[j-1]:\n",
    "\t\t\t\t\tcurr[j] = prev[j-1]\n",
    "\t\t\t\telse:\n",
    "\t\t\t\t\tmn = min(1 + prev[j], 1 + curr[j-1])\n",
    "\t\t\t\t\tcurr[j] = min(mn, 1 + prev[j-1])\n",
    "\t\t\tprev = curr.copy()\n",
    "\n",
    "\t\treturn prev[m]\n",
    "\n",
    "\n",
    "s = \"horse\"\n",
    "t = \"ros\"\n",
    "\n",
    "ob = Solution()\n",
    "ans = ob.editDistance(s, t)\n",
    "print(ans)\n"
   ]
  },
  {
   "cell_type": "code",
   "execution_count": 12,
   "id": "cf0551a5-6681-4bca-8e17-17dcf4f4fbf7",
   "metadata": {},
   "outputs": [
    {
     "name": "stdout",
     "output_type": "stream",
     "text": [
      "5\n"
     ]
    }
   ],
   "source": [
    "#example 2 mothod 2\n",
    "\n",
    "class Solution:\n",
    "\tdef editDistance(self, s: str, t: str) -> int:\n",
    "\t\tn = len(s)\n",
    "\t\tm = len(t)\n",
    "\n",
    "\t\tprev = [j for j in range(m+1)]\n",
    "\t\tcurr = [0] * (m+1)\n",
    "\n",
    "\t\tfor i in range(1, n+1):\n",
    "\t\t\tcurr[0] = i\n",
    "\t\t\tfor j in range(1, m+1):\n",
    "\t\t\t\tif s[i-1] == t[j-1]:\n",
    "\t\t\t\t\tcurr[j] = prev[j-1]\n",
    "\t\t\t\telse:\n",
    "\t\t\t\t\tmn = min(1 + prev[j], 1 + curr[j-1])\n",
    "\t\t\t\t\tcurr[j] = min(mn, 1 + prev[j-1])\n",
    "\t\t\tprev = curr.copy()\n",
    "\n",
    "\t\treturn prev[m]\n",
    "\n",
    "\n",
    "s = \"intention\"\n",
    "t = \"execution\"\n",
    "\n",
    "ob = Solution()\n",
    "ans = ob.editDistance(s, t)\n",
    "print(ans)\n",
    "\n"
   ]
  }
 ],
 "metadata": {
  "kernelspec": {
   "display_name": "Python 3 (ipykernel)",
   "language": "python",
   "name": "python3"
  },
  "language_info": {
   "codemirror_mode": {
    "name": "ipython",
    "version": 3
   },
   "file_extension": ".py",
   "mimetype": "text/x-python",
   "name": "python",
   "nbconvert_exporter": "python",
   "pygments_lexer": "ipython3",
   "version": "3.10.8"
  }
 },
 "nbformat": 4,
 "nbformat_minor": 5
}
